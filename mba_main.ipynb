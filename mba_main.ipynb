{
 "cells": [
  {
   "cell_type": "code",
   "execution_count": 8,
   "id": "153f2027",
   "metadata": {},
   "outputs": [],
   "source": [
    "import pandas as pd\n",
    "import matplotlib.pyplot as plt\n",
    "import seaborn as sns"
   ]
  },
  {
   "cell_type": "code",
   "execution_count": 9,
   "id": "e77ca232",
   "metadata": {},
   "outputs": [],
   "source": [
    "# Importing the raw data file\n",
    "retail = pd.read_csv(\"Online Retail.csv\", dtype={'InvoiceNo': str})"
   ]
  },
  {
   "cell_type": "code",
   "execution_count": 10,
   "id": "38ca1ce4",
   "metadata": {},
   "outputs": [
    {
     "name": "stdout",
     "output_type": "stream",
     "text": [
      "<class 'pandas.core.frame.DataFrame'>\n",
      "RangeIndex: 541909 entries, 0 to 541908\n",
      "Data columns (total 8 columns):\n",
      " #   Column       Non-Null Count   Dtype  \n",
      "---  ------       --------------   -----  \n",
      " 0   InvoiceNo    541909 non-null  object \n",
      " 1   StockCode    541909 non-null  object \n",
      " 2   Description  540455 non-null  object \n",
      " 3   Quantity     541909 non-null  int64  \n",
      " 4   InvoiceDate  541909 non-null  object \n",
      " 5   UnitPrice    541909 non-null  float64\n",
      " 6   CustomerID   406829 non-null  float64\n",
      " 7   Country      541909 non-null  object \n",
      "dtypes: float64(2), int64(1), object(5)\n",
      "memory usage: 33.1+ MB\n",
      "None\n"
     ]
    }
   ],
   "source": [
    "# First glance at the data\n",
    "print(retail.info())"
   ]
  },
  {
   "cell_type": "code",
   "execution_count": 11,
   "id": "4935ad3f",
   "metadata": {},
   "outputs": [
    {
     "name": "stdout",
     "output_type": "stream",
     "text": [
      "Total cancellations: 9288\n"
     ]
    }
   ],
   "source": [
    "# CANCELLATIONS\n",
    "# Filter out cancellations\n",
    "cancellation_count = retail[retail['InvoiceNo'].str.contains('C')]['InvoiceNo'].count()\n",
    "print(\"Total cancellations:\", cancellation_count)"
   ]
  },
  {
   "cell_type": "code",
   "execution_count": 12,
   "id": "69e3eba4",
   "metadata": {},
   "outputs": [
    {
     "data": {
      "text/plain": [
       "532621"
      ]
     },
     "execution_count": 12,
     "metadata": {},
     "output_type": "execute_result"
    }
   ],
   "source": [
    "# Remove cancellations\n",
    "retail = retail[~retail['InvoiceNo'].str.contains('C')]\n",
    "retail.shape[0]"
   ]
  },
  {
   "cell_type": "code",
   "execution_count": 13,
   "id": "eed0629f",
   "metadata": {},
   "outputs": [
    {
     "name": "stdout",
     "output_type": "stream",
     "text": [
      "Description             UnitPrice\n",
      "check                   0.0          120\n",
      "damages                 0.0           45\n",
      "damaged                 0.0           42\n",
      "?                       0.0           41\n",
      "sold as set on dotcom   0.0           20\n",
      "Damaged                 0.0           14\n",
      "Unsaleable, destroyed.  0.0            9\n",
      "thrown away             0.0            9\n",
      "??                      0.0            7\n",
      "damages?                0.0            5\n",
      "dtype: int64\n"
     ]
    }
   ],
   "source": [
    "# NEGATIVE QUANTITIES\n",
    "# Filter out rows with non-positive Quantity\n",
    "print(retail[retail['Quantity'] <= 0].groupby(['Description', 'UnitPrice']).size().nlargest(10))"
   ]
  },
  {
   "cell_type": "code",
   "execution_count": 14,
   "id": "32ba22ef",
   "metadata": {},
   "outputs": [
    {
     "data": {
      "text/plain": [
       "531285"
      ]
     },
     "execution_count": 14,
     "metadata": {},
     "output_type": "execute_result"
    }
   ],
   "source": [
    "# Remove rows with non-positive Quantity\n",
    "retail = retail[retail['Quantity'] > 0]\n",
    "retail.shape[0]"
   ]
  },
  {
   "cell_type": "code",
   "execution_count": 15,
   "id": "6ed9ebfe",
   "metadata": {},
   "outputs": [],
   "source": [
    "# NON-PRODUCT STOCKCODES\n",
    "stc = ['AMAZONFEE', 'BANK CHARGES', 'C2', 'DCGSSBOY', 'DCGSSGIRL', 'DOT', 'gift_0001_', 'PADS', 'POST']"
   ]
  },
  {
   "cell_type": "code",
   "execution_count": 16,
   "id": "08d8d0e7",
   "metadata": {},
   "outputs": [
    {
     "name": "stdout",
     "output_type": "stream",
     "text": [
      "StockCode     Description                       \n",
      "POST          POSTAGE                               1126\n",
      "DOT           DOTCOM POSTAGE                         708\n",
      "C2            CARRIAGE                               141\n",
      "DCGSSGIRL     GIRLS PARTY BAG                         13\n",
      "BANK CHARGES  Bank Charges                            12\n",
      "DCGSSBOY      BOYS PARTY BAG                          11\n",
      "gift_0001_20  Dotcomgiftshop Gift Voucher £20.00       9\n",
      "gift_0001_10  Dotcomgiftshop Gift Voucher £10.00       8\n",
      "gift_0001_30  Dotcomgiftshop Gift Voucher £30.00       7\n",
      "PADS          PADS TO MATCH ALL CUSHIONS               4\n",
      "dtype: int64\n"
     ]
    }
   ],
   "source": [
    "# Filling NaN values in 'StockCode' column with an empty string\n",
    "retail['StockCode'].fillna('', inplace=True)\n",
    "\n",
    "# Convert 'StockCode' column to string type\n",
    "retail['StockCode'] = retail['StockCode'].astype(str)\n",
    "\n",
    "# Applying mask after filling NaN values\n",
    "filtered_data = retail[retail['StockCode'].str.contains('|'.join(stc))].groupby(['StockCode', 'Description']).size().nlargest(10)\n",
    "print(filtered_data)"
   ]
  },
  {
   "cell_type": "code",
   "execution_count": 17,
   "id": "8a1732fd",
   "metadata": {},
   "outputs": [
    {
     "data": {
      "text/plain": [
       "529228"
      ]
     },
     "execution_count": 17,
     "metadata": {},
     "output_type": "execute_result"
    }
   ],
   "source": [
    "# Remove non-product related rows\n",
    "retail = retail[~retail['StockCode'].str.contains('|'.join(stc))]\n",
    "retail.shape[0]"
   ]
  },
  {
   "cell_type": "code",
   "execution_count": 18,
   "id": "a6eba86f",
   "metadata": {},
   "outputs": [
    {
     "name": "stdout",
     "output_type": "stream",
     "text": [
      "Description\n",
      "?                                        6\n",
      "AMAZON                                   3\n",
      "Adjust bad debt                          3\n",
      "Adjustment                               2\n",
      "Amazon                                   7\n",
      "Amazon Adjustment                        1\n",
      "Dotcomgiftshop Gift Voucher £100.00      1\n",
      "FBA                                      1\n",
      "FOUND                                    1\n",
      "Found                                    8\n",
      "Found in w/hse                           1\n",
      "Had been put aside.                      1\n",
      "John Lewis                               1\n",
      "Lighthouse Trading zero invc incorr      1\n",
      "Manual                                 328\n",
      "Marked as 23343                          1\n",
      "SAMPLES                                  2\n",
      "Sale error                               1\n",
      "add stock to allocate online orders      1\n",
      "adjustment                              14\n",
      "alan hodge cant mamage this section      1\n",
      "allocate stock for dotcom orders ta      1\n",
      "amazon                                   8\n",
      "amazon adjust                            1\n",
      "amazon sales                             1\n",
      "came coded as 20713                      1\n",
      "check                                   39\n",
      "check?                                   1\n",
      "damaged                                  1\n",
      "dotcom                                   4\n",
      "dotcom adjust                            1\n",
      "dotcomstock                              1\n",
      "for online retail orders                 1\n",
      "found                                   25\n",
      "found box                                1\n",
      "had been put aside                       5\n",
      "incorrectly credited C550456 see 47      1\n",
      "mailout                                  3\n",
      "michel oops                              1\n",
      "on cargo order                           1\n",
      "rcvd be air temp fix for dotcom sit      1\n",
      "returned                                 2\n",
      "taig adjust                              2\n",
      "test                                     2\n",
      "website fixed                            1\n",
      "wrongly coded 20713                      1\n",
      "wrongly coded 23343                      1\n",
      "wrongly marked 23343                     1\n",
      "wrongly sold (22719) barcode             1\n",
      "dtype: int64\n"
     ]
    }
   ],
   "source": [
    "# DESCRIPTION\n",
    "descr = [\"check\", \"check?\", \"?\", \"??\", \"damaged\", \"found\", \"adjustment\", \"Amazon\", \"AMAZON\", \"amazon adjust\",\n",
    "         \"Amazon Adjustment\", \"amazon sales\", \"Found\", \"FOUND\", \"found box\", \"Found by jackie \", \"Found in w/hse\",\n",
    "         \"dotcom\", \"dotcom adjust\", \"allocate stock for dotcom orders ta\", \"FBA\", \"Dotcomgiftshop Gift Voucher £100.00\",\n",
    "         \"on cargo order\", \"wrongly sold (22719) barcode\", \"wrongly marked 23343\", \"dotcomstock\",\n",
    "         \"rcvd be air temp fix for dotcom sit\", \"Manual\", \"John Lewis\", \"had been put aside\", \"for online retail orders\",\n",
    "         \"taig adjust\", \"amazon\", \"incorrectly credited C550456 see 47\", \"returned\", \"wrongly coded 20713\",\n",
    "         \"came coded as 20713\", \"add stock to allocate online orders\", \"Adjust bad debt\",\n",
    "         \"alan hodge cant mamage this section\", \"website fixed\", \"did a credit  and did not tick ret\", \"michel oops\",\n",
    "         \"incorrectly credited C550456 see 47\", \"mailout\", \"test\", \"Sale error\", \"Lighthouse Trading zero invc incorr\",\n",
    "         \"SAMPLES\", \"Marked as 23343\", \"wrongly coded 23343\", \"Adjustment\", \"rcvd be air temp fix for dotcom sit\",\n",
    "         \"Had been put aside.\"]\n",
    "print(retail[retail['Description'].isin(descr)].groupby('Description').size())"
   ]
  },
  {
   "cell_type": "code",
   "execution_count": 19,
   "id": "53e69314",
   "metadata": {},
   "outputs": [
    {
     "data": {
      "text/plain": [
       "528150"
      ]
     },
     "execution_count": 19,
     "metadata": {},
     "output_type": "execute_result"
    }
   ],
   "source": [
    "# Remove unwanted entries in Description\n",
    "retail = retail[~retail['Description'].isin(descr)]\n",
    "\n",
    "# Remove rows with NA in Description\n",
    "retail = retail.dropna(subset=['Description'])\n",
    "retail.shape[0]"
   ]
  },
  {
   "cell_type": "code",
   "execution_count": 20,
   "id": "b278435c",
   "metadata": {},
   "outputs": [
    {
     "name": "stdout",
     "output_type": "stream",
     "text": [
      "NaN        131780\n",
      "17841.0      7838\n",
      "14911.0      5591\n",
      "14096.0      5095\n",
      "12748.0      4580\n",
      "            ...  \n",
      "14705.0         1\n",
      "13841.0         1\n",
      "17715.0         1\n",
      "18084.0         1\n",
      "13099.0         1\n",
      "Name: CustomerID, Length: 4336, dtype: int64\n"
     ]
    }
   ],
   "source": [
    "# CUSTOMER ID\n",
    "print(retail['CustomerID'].value_counts(dropna=False))"
   ]
  },
  {
   "cell_type": "code",
   "execution_count": 21,
   "id": "e9d6a4a6",
   "metadata": {},
   "outputs": [],
   "source": [
    "# FINAL TOUCHES\n",
    "retail['InvoiceNo'] = pd.to_numeric(retail['InvoiceNo'])\n",
    "retail['Date'] = pd.to_datetime(retail['InvoiceDate']).dt.date\n",
    "retail['Time'] = pd.to_datetime(retail['InvoiceDate']).dt.strftime('%H:%M:%S')"
   ]
  },
  {
   "cell_type": "code",
   "execution_count": 22,
   "id": "deb103d0",
   "metadata": {},
   "outputs": [],
   "source": [
    "# Saving cleansed data for analysis phase\n",
    "retail.to_pickle(\"retail.pkl\")"
   ]
  },
  {
   "cell_type": "code",
   "execution_count": 23,
   "id": "918eaeb6",
   "metadata": {},
   "outputs": [
    {
     "data": {
      "image/png": "[encoded data removed]",
      "text/plain": [
       "<Figure size 720x432 with 1 Axes>"
      ]
     },
     "metadata": {
      "needs_background": "light"
     },
     "output_type": "display_data"
    }
   ],
   "source": [
    "# EXPLORATORY DATA ANALYSIS\n",
    "\n",
    "# What items do people buy more often?\n",
    "top_sellers = retail['Description'].value_counts().nlargest(10)\n",
    "plt.figure(figsize=(10, 6))\n",
    "sns.barplot(y=top_sellers.index, x=top_sellers.values, palette='viridis')\n",
    "plt.xlabel('Top 10 Best Sellers')\n",
    "plt.ylabel('')\n",
    "plt.title('Most Ordered Products')\n",
    "plt.show()"
   ]
  },
  {
   "cell_type": "code",
   "execution_count": 24,
   "id": "e376e739",
   "metadata": {},
   "outputs": [
    {
     "name": "stdout",
     "output_type": "stream",
     "text": [
      "WHITE HANGING HEART T-LIGHT HOLDER    0.440595\n",
      "JUMBO BAG RED RETROSPOT               0.400454\n",
      "REGENCY CAKESTAND 3 TIER              0.382278\n",
      "PARTY BUNTING                         0.323204\n",
      "LUNCH BAG RED RETROSPOT               0.301808\n",
      "ASSORTED COLOUR BIRD ORNAMENT         0.281927\n",
      "SET OF 3 CAKE TINS PANTRY DESIGN      0.264887\n",
      "PACK OF 72 RETROSPOT CAKE CASES       0.259396\n",
      "LUNCH BAG  BLACK SKULL.               0.251444\n",
      "NATURAL SLATE HEART CHALKBOARD        0.239137\n",
      "Name: Description, dtype: float64\n"
     ]
    }
   ],
   "source": [
    "# Top 10 most sold products represent around 3% of total items sold by the company\n",
    "pct_top_sellers = (retail['Description'].value_counts() / len(retail) * 100).nlargest(10)\n",
    "print(pct_top_sellers)\n"
   ]
  },
  {
   "cell_type": "code",
   "execution_count": 25,
   "id": "abcc6f08",
   "metadata": {},
   "outputs": [
    {
     "data": {
      "image/png": "[encoded data removed]",
      "text/plain": [
       "<Figure size 720x432 with 1 Axes>"
      ]
     },
     "metadata": {
      "needs_background": "light"
     },
     "output_type": "display_data"
    }
   ],
   "source": [
    "# What time of day do people buy more often?\n",
    "retail['Time'] = pd.to_datetime(retail['Time'])\n",
    "plt.figure(figsize=(10, 6))\n",
    "sns.histplot(retail['Time'].dt.hour, bins=24, kde=False, color='orange')\n",
    "plt.xlabel('Hour of Day')\n",
    "plt.ylabel('')\n",
    "plt.show()\n"
   ]
  },
  {
   "cell_type": "code",
   "execution_count": 26,
   "id": "2c9028a2",
   "metadata": {},
   "outputs": [
    {
     "data": {
      "image/png": "[encoded data removed]",
      "text/plain": [
       "<Figure size 720x432 with 1 Axes>"
      ]
     },
     "metadata": {
      "needs_background": "light"
     },
     "output_type": "display_data"
    }
   ],
   "source": [
    "# What day of the week do people buy more often?\n",
    "\n",
    "# Assuming 'Date' column is not datetime-like, convert it to datetime\n",
    "retail['Date'] = pd.to_datetime(retail['Date'])\n",
    "\n",
    "# Plotting histogram of day of week\n",
    "plt.figure(figsize=(10, 6))\n",
    "sns.histplot(retail['Date'].dt.dayofweek, bins=7, kde=False, color='green')\n",
    "plt.xlabel('Day of Week')\n",
    "plt.ylabel('')\n",
    "plt.xticks(ticks=range(7), labels=['Mon', 'Tue', 'Wed', 'Thu', 'Fri', 'Sat', 'Sun'])\n",
    "plt.show()\n",
    "\n"
   ]
  },
  {
   "cell_type": "code",
   "execution_count": 27,
   "id": "fe6dbca0",
   "metadata": {},
   "outputs": [
    {
     "data": {
      "image/png": "[encoded data removed]",
      "text/plain": [
       "<Figure size 720x432 with 1 Axes>"
      ]
     },
     "metadata": {
      "needs_background": "light"
     },
     "output_type": "display_data"
    }
   ],
   "source": [
    "# Which countries do they sell their goods to?\n",
    "plt.figure(figsize=(10, 6))\n",
    "sns.countplot(y=retail['Country'], order=retail['Country'].value_counts().index, palette='Set2')\n",
    "plt.xlabel('Count')\n",
    "plt.ylabel('Country')\n",
    "plt.title('Goods Sold by Country')\n",
    "plt.show()"
   ]
  },
  {
   "cell_type": "code",
   "execution_count": 28,
   "id": "92dbc959",
   "metadata": {},
   "outputs": [
    {
     "data": {
      "image/png": "[encoded data removed]",
      "text/plain": [
       "<Figure size 864x432 with 1 Axes>"
      ]
     },
     "metadata": {
      "needs_background": "light"
     },
     "output_type": "display_data"
    }
   ],
   "source": [
    "# Convert 'InvoiceDate' to datetime if it's not already in datetime format\n",
    "retail['InvoiceDate'] = pd.to_datetime(retail['InvoiceDate'])\n",
    "\n",
    "# Calculate number of purchases per month\n",
    "sales_by_month = retail.groupby(retail['InvoiceDate'].dt.month).size()\n",
    " \n",
    "# Plotting\n",
    "plt.figure(figsize=(12, 6))\n",
    "sales_by_month.plot(kind='bar', color='coral')\n",
    " \n",
    "# Adding labels and title\n",
    "plt.title('Number of Purchases by Month')\n",
    "plt.xlabel('Month')\n",
    "plt.ylabel('Number of Purchases')\n",
    " \n",
    "# Rotate x-axis labels for better readability\n",
    "plt.xticks(rotation=0)\n",
    " \n",
    "# Show the plot\n",
    "plt.show()\n"
   ]
  },
  {
   "cell_type": "code",
   "execution_count": 29,
   "id": "9cb6e4e1",
   "metadata": {},
   "outputs": [
    {
     "name": "stdout",
     "output_type": "stream",
     "text": [
      "Average Order Value during November and January: 18.27\n"
     ]
    }
   ],
   "source": [
    "# Check and convert InvoiceDate to datetime if needed\n",
    "if not pd.api.types.is_datetime64_dtype(retail['InvoiceDate']):\n",
    "    retail['InvoiceDate'] = pd.to_datetime(retail['InvoiceDate'])\n",
    " \n",
    "# Select rows where month is November or January\n",
    "nov_jan_data = retail.loc[(retail['InvoiceDate'].dt.month == 11) | (retail['InvoiceDate'].dt.month == 1), :]\n",
    " \n",
    "# Calculate average order value\n",
    "average_order_value = (nov_jan_data['Quantity'] * nov_jan_data['UnitPrice']).mean()\n",
    " \n",
    "# Print the result\n",
    "print(f\"Average Order Value during November and January: {average_order_value:.2f}\")"
   ]
  },
  {
   "cell_type": "code",
   "execution_count": 30,
   "id": "417342af",
   "metadata": {},
   "outputs": [
    {
     "name": "stdout",
     "output_type": "stream",
     "text": [
      "Empty DataFrame\n",
      "Columns: [InvoiceNo, StockCode, Quantity, UnitPrice, CustomerID]\n",
      "Index: []\n"
     ]
    }
   ],
   "source": [
    "# Filtering by an order number which contains the same stock code more than once\n",
    "# to show duplicate items within the same order\n",
    "duplicate_items = retail[(retail['InvoiceNo'] == '557886') & (retail['StockCode'] == '22436')]\n",
    "print(duplicate_items[['InvoiceNo', 'StockCode', 'Quantity', 'UnitPrice', 'CustomerID']])"
   ]
  },
  {
   "cell_type": "code",
   "execution_count": 31,
   "id": "526057c1",
   "metadata": {},
   "outputs": [],
   "source": [
    "# Removing duplicates\n",
    "\n",
    "# Convert 'InvoiceNo' column to string type\n",
    "retail['InvoiceNo'] = retail['InvoiceNo'].astype(str)\n",
    "\n",
    "# Concatenate 'InvoiceNo' and 'Description' columns\n",
    "retail['InNo_Desc'] = retail['InvoiceNo'] + ' ' + retail['Description']\n",
    "\n",
    "# Remove duplicates based on the concatenated column\n",
    "retail = retail[~retail['InNo_Desc'].duplicated(keep='first')]\n"
   ]
  },
  {
   "cell_type": "code",
   "execution_count": 32,
   "id": "f6edbf7e",
   "metadata": {},
   "outputs": [
    {
     "name": "stdout",
     "output_type": "stream",
     "text": [
      "Total row count after removing duplicates: 517465\n"
     ]
    }
   ],
   "source": [
    "print(\"Total row count after removing duplicates:\", len(retail))"
   ]
  },
  {
   "cell_type": "markdown",
   "id": "918da5c9",
   "metadata": {},
   "source": [
    "# Based on Association Rule Technique"
   ]
  },
  {
   "cell_type": "code",
   "execution_count": 206,
   "id": "9566bfaf",
   "metadata": {},
   "outputs": [],
   "source": [
    "from mlxtend.frequent_patterns import apriori, association_rules"
   ]
  },
  {
   "cell_type": "code",
   "execution_count": 207,
   "id": "790031db",
   "metadata": {},
   "outputs": [],
   "source": [
    "def encode(x):\n",
    "    if x <= 0:\n",
    "        return 0\n",
    "    if x >= 1:\n",
    "        return 1"
   ]
  },
  {
   "cell_type": "code",
   "execution_count": 208,
   "id": "548fd7b3",
   "metadata": {},
   "outputs": [],
   "source": [
    "def RecommendItems_Association(CurItemOfInterest, CustomerID, Country, Date = None, Time = None):\n",
    "    # Filtering the dataset by country\n",
    "    filtered_trans = (retail[retail['Country'] == Country]\n",
    "          .groupby(['InvoiceNo', 'Description'])['Quantity']\n",
    "          .sum().unstack().reset_index().fillna(0)\n",
    "          .set_index('InvoiceNo'))\n",
    "\n",
    "    # Encoding the Data\n",
    "    trans_encoded = filtered_trans.applymap(encode)\n",
    "\n",
    "    # Filtering by Current Item Of Interest\n",
    "    transactions = trans_encoded.loc[trans_encoded[CurItemOfInterest] == 1]\n",
    "\n",
    "    # Using apriori algorithm for association rule mining in transactional dataset\n",
    "    frequent_items = apriori(transactions, min_support=0.05, use_colnames=True)\n",
    "\n",
    "    # Storing inferred rules in dataframe\n",
    "    rules = association_rules(frequent_items, metric=\"lift\", min_threshold=3)\n",
    "    rules = rules.sort_values(['confidence', 'lift'], ascending=[False, False])\n",
    "\n",
    "    # Filtering out the current item of interest from recommendations\n",
    "    recommendations = rules['consequents'].apply(lambda x: x.difference({CurItemOfInterest})).unique()[:10]\n",
    "\n",
    "    return recommendations\n"
   ]
  },
  {
   "cell_type": "code",
   "execution_count": 209,
   "id": "cab40c0b",
   "metadata": {},
   "outputs": [
    {
     "name": "stderr",
     "output_type": "stream",
     "text": [
      "C:\\Users\\Ruchika Gupta\\anaconda3\\lib\\site-packages\\mlxtend\\frequent_patterns\\fpcommon.py:111: DeprecationWarning: DataFrames with non-bool types result in worse computationalperformance and their support might be discontinued in the future.Please use a DataFrame with bool type\n",
      "  warnings.warn(\n"
     ]
    },
    {
     "name": "stdout",
     "output_type": "stream",
     "text": [
      "[frozenset({'RETRO COFFEE MUGS ASSORTED', 'WOODEN FRAME ANTIQUE WHITE '})\n",
      " frozenset({'WOODEN PICTURE FRAME WHITE FINISH', 'GLASS STAR FROSTED T-LIGHT HOLDER', 'CREAM CUPID HEARTS COAT HANGER'})\n",
      " frozenset({'RETRO COFFEE MUGS ASSORTED', 'WOODEN FRAME ANTIQUE WHITE ', 'WHITE HANGING HEART T-LIGHT HOLDER'})\n",
      " frozenset({'WOODEN PICTURE FRAME WHITE FINISH', 'GLASS STAR FROSTED T-LIGHT HOLDER', 'CREAM CUPID HEARTS COAT HANGER', 'WHITE HANGING HEART T-LIGHT HOLDER'})\n",
      " frozenset({'WOODEN PICTURE FRAME WHITE FINISH', 'RETRO COFFEE MUGS ASSORTED'})\n",
      " frozenset({'WOODEN PICTURE FRAME WHITE FINISH', 'CREAM CUPID HEARTS COAT HANGER', 'WHITE HANGING HEART T-LIGHT HOLDER'})\n",
      " frozenset({'RETRO COFFEE MUGS ASSORTED', 'GLASS STAR FROSTED T-LIGHT HOLDER', 'KNITTED UNION FLAG HOT WATER BOTTLE'})\n",
      " frozenset({'RETRO COFFEE MUGS ASSORTED', 'GLASS STAR FROSTED T-LIGHT HOLDER', 'RED WOOLLY HOTTIE WHITE HEART.'})\n",
      " frozenset({'GLASS STAR FROSTED T-LIGHT HOLDER', 'VINTAGE BILLBOARD DRINK ME MUG', 'RED WOOLLY HOTTIE WHITE HEART.'})\n",
      " frozenset({'WOODEN PICTURE FRAME WHITE FINISH', 'RETRO COFFEE MUGS ASSORTED', 'WHITE HANGING HEART T-LIGHT HOLDER'})]\n"
     ]
    }
   ],
   "source": [
    "recommended_items = RecommendItems_Association('WHITE METAL LANTERN', 'pass', 'United Kingdom')\n",
    "print(recommended_items)"
   ]
  },
  {
   "cell_type": "markdown",
   "id": "bb5afbee",
   "metadata": {},
   "source": [
    "# Popular Item approach"
   ]
  },
  {
   "cell_type": "code",
   "execution_count": 210,
   "id": "80951f0f",
   "metadata": {},
   "outputs": [],
   "source": [
    "def get_frequent_items(retail, min_support):\n",
    "    \n",
    "    grouped_transactions = retail.groupby('InvoiceNo')['Description'].apply(list)\n",
    "    \n",
    "    transactions = grouped_transactions.tolist()\n",
    "    \n",
    "    item_counts = {}\n",
    "    for transaction in transactions:\n",
    "        for item in transaction:\n",
    "            if item in item_counts:\n",
    "                item_counts[item] += 1\n",
    "            else:\n",
    "                item_counts[item] = 1\n",
    "                \n",
    "    min_count = min_support * len(transactions)\n",
    "    \n",
    "    frequent_items = []\n",
    "\n",
    "    for item, count in item_counts.items():\n",
    "        if count >= min_count:\n",
    "            frequent_items.append(item)\n",
    "            \n",
    "    return frequent_items"
   ]
  },
  {
   "cell_type": "code",
   "execution_count": 211,
   "id": "31b878e6",
   "metadata": {},
   "outputs": [
    {
     "name": "stdout",
     "output_type": "stream",
     "text": [
      "33\n"
     ]
    },
    {
     "data": {
      "text/plain": [
       "['WHITE HANGING HEART T-LIGHT HOLDER',\n",
       " 'ASSORTED COLOUR BIRD ORNAMENT',\n",
       " 'JAM MAKING SET WITH JARS',\n",
       " 'ALARM CLOCK BAKELIKE RED ',\n",
       " \"PAPER CHAIN KIT 50'S CHRISTMAS \",\n",
       " 'WOODEN PICTURE FRAME WHITE FINISH',\n",
       " 'JUMBO BAG PINK POLKADOT',\n",
       " 'LUNCH BAG RED RETROSPOT',\n",
       " 'PACK OF 72 RETROSPOT CAKE CASES',\n",
       " 'JUMBO STORAGE BAG SUKI',\n",
       " 'JAM MAKING SET PRINTED',\n",
       " 'JUMBO SHOPPER VINTAGE RED PAISLEY',\n",
       " 'NATURAL SLATE HEART CHALKBOARD ',\n",
       " 'HEART OF WICKER SMALL',\n",
       " 'JUMBO BAG RED RETROSPOT',\n",
       " 'LUNCH BAG SPACEBOY DESIGN ',\n",
       " 'LUNCH BAG WOODLAND',\n",
       " 'LUNCH BAG PINK POLKADOT',\n",
       " 'LUNCH BAG CARS BLUE',\n",
       " 'LUNCH BAG  BLACK SKULL.',\n",
       " 'VICTORIAN GLASS HANGING T-LIGHT',\n",
       " 'REGENCY CAKESTAND 3 TIER',\n",
       " 'ROSES REGENCY TEACUP AND SAUCER ',\n",
       " 'GREEN REGENCY TEACUP AND SAUCER',\n",
       " 'RECIPE BOX PANTRY YELLOW DESIGN',\n",
       " 'RED RETROSPOT CHARLOTTE BAG',\n",
       " 'PARTY BUNTING',\n",
       " 'SET OF 3 CAKE TINS PANTRY DESIGN ',\n",
       " 'SET OF 4 PANTRY JELLY MOULDS',\n",
       " 'LUNCH BAG SUKI DESIGN ',\n",
       " 'LUNCH BAG APPLE DESIGN',\n",
       " 'SPOTTY BUNTING',\n",
       " 'RABBIT NIGHT LIGHT']"
      ]
     },
     "execution_count": 211,
     "metadata": {},
     "output_type": "execute_result"
    }
   ],
   "source": [
    "frequent_items = get_frequent_items(retail, 0.05)\n",
    "l = len(frequent_items)\n",
    "print(l)\n",
    "frequent_items"
   ]
  },
  {
   "cell_type": "code",
   "execution_count": 212,
   "id": "ca4de6d5",
   "metadata": {},
   "outputs": [],
   "source": [
    "def RecommendItems_Popular(curr_item_of_interest, retail, CustomerID = None, Country = None, Time = None, Date = None):\n",
    "    \n",
    "    grouped_transactions = retail.groupby('InvoiceNo')['Description'].apply(list)\n",
    "    \n",
    "    transactions = grouped_transactions.tolist()\n",
    "    \n",
    "    co_occurring_items = {}\n",
    "    \n",
    "    valid_transactions = []\n",
    "    for t in transactions:\n",
    "        if curr_item_of_interest in t:\n",
    "            valid_transactions.append(t)\n",
    "            \n",
    "    print(len(valid_transactions))\n",
    "    \n",
    "    for transaction in valid_transactions:\n",
    "        for item in transaction:\n",
    "            if item != curr_item_of_interest and item in frequent_items:\n",
    "                if item in co_occurring_items:\n",
    "                    co_occurring_items[item] +=1\n",
    "                else:\n",
    "                    co_occurring_items[item] = 1\n",
    "                    \n",
    "    recommended_items = sorted(co_occurring_items, key=lambda item: item[1], reverse = True)\n",
    "    \n",
    "    return recommended_items\n",
    "                  "
   ]
  },
  {
   "cell_type": "code",
   "execution_count": 213,
   "id": "f8cb6e10",
   "metadata": {},
   "outputs": [
    {
     "name": "stdout",
     "output_type": "stream",
     "text": [
      "1686\n"
     ]
    },
    {
     "data": {
      "text/plain": [
       "['LUNCH BAG RED RETROSPOT',\n",
       " 'JUMBO BAG RED RETROSPOT',\n",
       " 'JUMBO BAG PINK POLKADOT',\n",
       " 'LUNCH BAG SPACEBOY DESIGN ',\n",
       " 'LUNCH BAG PINK POLKADOT',\n",
       " 'LUNCH BAG WOODLAND',\n",
       " 'LUNCH BAG  BLACK SKULL.',\n",
       " 'JUMBO STORAGE BAG SUKI',\n",
       " 'LUNCH BAG CARS BLUE',\n",
       " 'JUMBO SHOPPER VINTAGE RED PAISLEY',\n",
       " 'LUNCH BAG SUKI DESIGN ',\n",
       " 'LUNCH BAG APPLE DESIGN',\n",
       " 'ASSORTED COLOUR BIRD ORNAMENT',\n",
       " 'GREEN REGENCY TEACUP AND SAUCER',\n",
       " 'SPOTTY BUNTING',\n",
       " 'ROSES REGENCY TEACUP AND SAUCER ',\n",
       " 'WOODEN PICTURE FRAME WHITE FINISH',\n",
       " 'ALARM CLOCK BAKELIKE RED ',\n",
       " 'VICTORIAN GLASS HANGING T-LIGHT',\n",
       " 'WHITE HANGING HEART T-LIGHT HOLDER',\n",
       " 'RED RETROSPOT CHARLOTTE BAG',\n",
       " 'HEART OF WICKER SMALL',\n",
       " 'RECIPE BOX PANTRY YELLOW DESIGN',\n",
       " 'REGENCY CAKESTAND 3 TIER',\n",
       " 'SET OF 3 CAKE TINS PANTRY DESIGN ',\n",
       " 'SET OF 4 PANTRY JELLY MOULDS',\n",
       " 'NATURAL SLATE HEART CHALKBOARD ',\n",
       " 'JAM MAKING SET WITH JARS',\n",
       " \"PAPER CHAIN KIT 50'S CHRISTMAS \",\n",
       " 'JAM MAKING SET PRINTED',\n",
       " 'PACK OF 72 RETROSPOT CAKE CASES',\n",
       " 'RABBIT NIGHT LIGHT']"
      ]
     },
     "execution_count": 213,
     "metadata": {},
     "output_type": "execute_result"
    }
   ],
   "source": [
    "curr_item_of_interest = 'PARTY BUNTING'\n",
    "recommended_items = RecommendItems_Popular(curr_item_of_interest, retail)\n",
    "recommended_items"
   ]
  },
  {
   "cell_type": "markdown",
   "id": "c28fecc9",
   "metadata": {},
   "source": [
    "# User-based Collaborative Filtering Technique"
   ]
  },
  {
   "cell_type": "code",
   "execution_count": 33,
   "id": "dd0c5cf0",
   "metadata": {},
   "outputs": [],
   "source": [
    "def jaccard_similarity(set1, set2):\n",
    "    \n",
    "    intersection = len(set1.intersection(set2))\n",
    "    union = len(set1.union(set2))\n",
    "    if union != 0:\n",
    "        similarity_score = intersection/union\n",
    "    else:\n",
    "        0\n",
    "    return similarity_score"
   ]
  },
  {
   "cell_type": "code",
   "execution_count": 34,
   "id": "4e7f5b4d",
   "metadata": {},
   "outputs": [],
   "source": [
    "def RecommendItems_collaborative(retail, CustomerID, top_n=10):\n",
    "    \n",
    "    grouped_transactions = retail.groupby('CustomerID')['Description'].apply(list)\n",
    "    \n",
    "    transactions_dict = grouped_transactions.to_dict()\n",
    "    \n",
    "#     print(len(transactions_dict))\n",
    "    \n",
    "    customer_similarity_pairs = {}\n",
    "\n",
    "    key_values = list(transactions_dict.items())\n",
    "\n",
    "    for i, (key1, value1) in enumerate(key_values):\n",
    "        for j, (key2, value2) in enumerate(key_values):\n",
    "            if i !=j:\n",
    "                value1 = tuple(value1)\n",
    "                value2 = tuple(value2)\n",
    "                if (value1, value2) not in customer_similarity_pairs and (value2, value1) not in customer_similarity_pairs:\n",
    "                    set1 = set(value1)\n",
    "                    set2 = set(value2)\n",
    "                    similarity_score = jaccard_similarity(set1, set2)\n",
    "                    customer_similarity_pairs[(key1, key2)] = similarity_score\n",
    "    # Get the list of items purchased by the customer\n",
    "    preferences = set(transactions_dict.get(CustomerID, []))\n",
    "    \n",
    "    # Initialize a dictionary to store recommendations\n",
    "    recommendations = {}\n",
    "    \n",
    "    # Iterate over similarity pairs\n",
    "    for (customer1, customer2), similarity_score in customer_similarity_pairs.items():\n",
    "        # Check if customer2's items are not in customer1's preferences\n",
    "        if customer1 == CustomerID and customer2 != CustomerID:\n",
    "            for item in transactions_dict.get(customer2, []):\n",
    "                if item not in preferences:\n",
    "                    # Add similarity score to recommendations\n",
    "                    recommendations[item] = recommendations.get(item, 0) + similarity_score\n",
    "    \n",
    "    # Sort recommendations by similarity score\n",
    "    sorted_recommendations = sorted(recommendations.items(), key=lambda x: x[1], reverse=True)\n",
    "    \n",
    "    recommended_items = [item[0] for item in sorted_recommendations[:top_n]]\n",
    "    \n",
    "    # Return top n recommendations\n",
    "    return recommended_items"
   ]
  },
  {
   "cell_type": "code",
   "execution_count": null,
   "id": "543c7413",
   "metadata": {},
   "outputs": [],
   "source": [
    "# Example usage:\n",
    "customer_id = 17850  # Example customer ID\n",
    "recommended_items = RecommendItems(retail, customer_id)\n",
    "print(recommended_items)"
   ]
  },
  {
   "cell_type": "code",
   "execution_count": 35,
   "id": "80c8e348",
   "metadata": {},
   "outputs": [],
   "source": [
    "def RecommendItems(CurItemOfInterest, CustomerID, Country, Time, Date):\n",
    "    \n",
    "    return RecommendItems_collaborative(retail, CustomerID)"
   ]
  },
  {
   "cell_type": "code",
   "execution_count": 36,
   "id": "f38d3484",
   "metadata": {},
   "outputs": [
    {
     "name": "stdout",
     "output_type": "stream",
     "text": [
      "['REGENCY CAKESTAND 3 TIER', 'JUMBO BAG RED RETROSPOT', 'ASSORTED COLOUR BIRD ORNAMENT', 'PARTY BUNTING', 'HEART OF WICKER SMALL', 'LUNCH BAG RED RETROSPOT', 'HEART OF WICKER LARGE', 'NATURAL SLATE HEART CHALKBOARD ', 'WOOD BLACK BOARD ANT WHITE FINISH', 'SET OF 3 CAKE TINS PANTRY DESIGN ']\n"
     ]
    }
   ],
   "source": [
    "# Example usage:\n",
    "recommended_items = RecommendItems(\"JUMBO BAG RED RETROSPOT\", 17850, \"United Kingdom\", \"08:26:00\", \"01-12-2010\" )\n",
    "print(recommended_items)"
   ]
  },
  {
   "cell_type": "code",
   "execution_count": 37,
   "id": "fd681cad",
   "metadata": {},
   "outputs": [
    {
     "data": {
      "text/plain": [
       "['REGENCY CAKESTAND 3 TIER',\n",
       " 'JUMBO BAG RED RETROSPOT',\n",
       " 'ASSORTED COLOUR BIRD ORNAMENT',\n",
       " 'PARTY BUNTING',\n",
       " 'HEART OF WICKER SMALL',\n",
       " 'LUNCH BAG RED RETROSPOT',\n",
       " 'HEART OF WICKER LARGE',\n",
       " 'NATURAL SLATE HEART CHALKBOARD ',\n",
       " 'WOOD BLACK BOARD ANT WHITE FINISH',\n",
       " 'SET OF 3 CAKE TINS PANTRY DESIGN ']"
      ]
     },
     "execution_count": 37,
     "metadata": {},
     "output_type": "execute_result"
    }
   ],
   "source": [
    "RecommendItems(\"JUMBO BAG RED RETROSPOT\", 17850, \"United Kingdom\", \"08:26:00\", \"01-12-2010\" )"
   ]
  }
 ],
 "metadata": {
  "kernelspec": {
   "display_name": "Python 3 (ipykernel)",
   "language": "python",
   "name": "python3"
  },
  "language_info": {
   "codemirror_mode": {
    "name": "ipython",
    "version": 3
   },
   "file_extension": ".py",
   "mimetype": "text/x-python",
   "name": "python",
   "nbconvert_exporter": "python",
   "pygments_lexer": "ipython3",
   "version": "3.9.12"
  }
 },
 "nbformat": 4,
 "nbformat_minor": 5
}
